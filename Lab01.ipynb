{
 "cells": [
  {
   "cell_type": "markdown",
   "id": "3f3d57fd-32f3-4a09-bb32-166188c03a60",
   "metadata": {},
   "source": [
    "# Lab 01: Introduction to the environment"
   ]
  },
  {
   "cell_type": "markdown",
   "id": "f7a89974-8cb3-4a7b-af91-654f7b88d9f0",
   "metadata": {},
   "source": [
    "## Using the command line\n",
    "\n",
    "As a rule of thumb, every database management system has a command line interface through which you can execute SQL instructions, along with other administration and system maintenance commands."
   ]
  },
  {
   "cell_type": "markdown",
   "id": "8ef5999b-bf60-45da-a187-9ada19735d97",
   "metadata": {},
   "source": [
    "**Note:** All administration commands start with a \\ (backslash)."
   ]
  },
  {
   "cell_type": "markdown",
   "id": "57f18966-5799-4303-8ff0-96dea5b31306",
   "metadata": {},
   "source": [
    "**Note:** All SQL commands must end with ; (semicolon) and start with a SQL instruction\n",
    "```sql\n",
    "CREATE, SELECT, UPDATE, INSERT, DELETE, etc.\n",
    "```"
   ]
  },
  {
   "cell_type": "markdown",
   "id": "5d958ddf-4091-41c8-a16e-ffce83e2265d",
   "metadata": {},
   "source": [
    "1. Click the blue `New Launcher` button on the left labeled with a `+` sign.\n",
    "\n",
    "2. In the next page, select the option Terminal in the Other section."
   ]
  },
  {
   "cell_type": "markdown",
   "id": "4ec44dd0-31e3-45df-9472-2d8faf6e712c",
   "metadata": {},
   "source": [
    "3. Connect to PostgreSQL using the `psql` command-line interface.\n",
    "\n",
    "```bash\n",
    "psql -h postgres -U postgres ⮐\n",
    "```"
   ]
  },
  {
   "cell_type": "markdown",
   "id": "58270be1-e8be-4352-85aa-4050d7cbf97e",
   "metadata": {},
   "source": [
    "4. Enter the password for the user `postgres`.\n",
    "\n",
    "   `postgres`↵"
   ]
  },
  {
   "cell_type": "markdown",
   "id": "3644eeb4-18f1-4ddd-b877-755c57d49b66",
   "metadata": {
    "tags": []
   },
   "source": [
    "Once in the system, use command \\h ⮐ to get information on all available SQL commands."
   ]
  },
  {
   "cell_type": "markdown",
   "id": "c411a60e-938e-434a-9e13-4c19e28f49db",
   "metadata": {},
   "source": [
    "Use command \\\\? ⮐ to get information on all available administration commands."
   ]
  },
  {
   "cell_type": "markdown",
   "id": "5d8eb965-0c00-425a-9826-5a4b46183094",
   "metadata": {},
   "source": [
    "## Creating the example database – ‘Bank’"
   ]
  },
  {
   "cell_type": "markdown",
   "id": "08c43f48-3b3d-451e-8990-94c2e199ea7a",
   "metadata": {},
   "source": [
    "In order to create the database, you need to create the tables and load the data into each table. The database creation is done using the `CREATE DATABASE` instruction. The bank database can be created using the following instructions:"
   ]
  },
  {
   "cell_type": "markdown",
   "id": "5a61a1d2-f7f6-4d16-add3-c0dc814f0efa",
   "metadata": {},
   "source": [
    "5. Create a new unprivileged user `bank`.\n",
    "\n",
    "   ```sql\n",
    "   CREATE USER bank WITH PASSWORD 'bank'; ⮐\n",
    "   ```"
   ]
  },
  {
   "cell_type": "markdown",
   "id": "804349be-919e-49e2-abad-3e6ced3621b2",
   "metadata": {},
   "source": [
    "6. Create database `bank` and set user `bank` as owner of the database.\n",
    "\n",
    "    ```sql\n",
    "    CREATE DATABASE bank\n",
    "    WITH\n",
    "    OWNER = bank\n",
    "    ENCODING = 'UTF8'; ⮐\n",
    "    ```"
   ]
  },
  {
   "cell_type": "markdown",
   "id": "05d55497-9aa6-47aa-93f5-3c51e25ef7f2",
   "metadata": {},
   "source": [
    "_Note:_ Set the character encoding to [UTF-8](https://en.wikipedia.org/wiki/UTF-8) explicitly."
   ]
  },
  {
   "cell_type": "markdown",
   "id": "c81e3b56-bae1-401a-a3a2-79b204809f5b",
   "metadata": {},
   "source": [
    "7. Grant all privileges on the database `bank` to the user `bank`.\n",
    "\n",
    "```sql\n",
    "GRANT ALL ON DATABASE bank TO bank; ⮐\n",
    "```"
   ]
  },
  {
   "cell_type": "markdown",
   "id": "46854ce1-87b3-4869-ab81-1fdeea3c7eff",
   "metadata": {},
   "source": [
    "8. Exit the program using the command \\q ⮐."
   ]
  },
  {
   "cell_type": "markdown",
   "id": "320911ca-e1ce-4e4e-aef8-b34791471f6c",
   "metadata": {},
   "source": [
    "![Figure 2](../images/Bank%20Example%20-%20Printable.png \"Bank Database\")"
   ]
  },
  {
   "cell_type": "markdown",
   "id": "586a9883-3c9c-4bf6-8e23-072bd8b8fe26",
   "metadata": {},
   "source": [
    "9. Connect to PostgreSQL using the `psql` command-line interface.\n",
    "\n",
    "```bash\n",
    "psql -h postgres -U bank ⮐\n",
    "```"
   ]
  },
  {
   "cell_type": "markdown",
   "id": "d75c2487-93b8-475d-be71-049010ee6f42",
   "metadata": {},
   "source": [
    "10. Enter the password for the user `bank`.\n",
    "\n",
    "   `bank`↵"
   ]
  },
  {
   "cell_type": "markdown",
   "id": "41fc5c29-8cb4-4513-a1ae-e12adfe5f3bd",
   "metadata": {},
   "source": [
    "The bank.sql file contains a set of SQL instructions to create the example database shown in Figure 1."
   ]
  },
  {
   "cell_type": "markdown",
   "id": "0a6ca443-d9b3-4d65-b812-3b2ce8068dad",
   "metadata": {},
   "source": [
    "In order to create the database, you need to create the tables and load the data into each table. The table creation is done using the **CREATE TABLE** Instruction. For example, the customer table can be created using the following instruction:"
   ]
  },
  {
   "cell_type": "markdown",
   "id": "845906ed-e159-4d49-a53a-1b15d50b81e6",
   "metadata": {
    "tags": []
   },
   "source": [
    "```sql\n",
    "CREATE TABLE customer\n",
    "   (customer_name\t\tvarchar(80)\tnot null unique,\n",
    "    customer_street\t\tvarchar(255)\tnot null,\n",
    "    customer_city\t\tvarchar(30)\tnot null,\n",
    "    CONSTRAINT pk_customer PRIMARY KEY(customer_name)); ⮐\n",
    "```"
   ]
  },
  {
   "cell_type": "markdown",
   "id": "d1dfeae2-a8fc-49a3-82e1-c8d052e32b3a",
   "metadata": {},
   "source": [
    "This instruction specifies the table name, the name of the three columns, and the type of each column. It also specifies constraints, such as the values cannot be NULL and the fact that the table’s primary key is the customer name."
   ]
  },
  {
   "cell_type": "markdown",
   "id": "55864e28-0923-4632-a6c9-0ea4fa4ae177",
   "metadata": {},
   "source": [
    "The data of each table is loaded through **INSERT** instructions. For example:\n"
   ]
  },
  {
   "cell_type": "markdown",
   "id": "83ef3b2c-e09e-4d3b-972f-dcb42a89dfb9",
   "metadata": {},
   "source": [
    "```sql\n",
    "INSERT INTO customer VALUES ( 'Luis' , 'Rua do Cima' , 'Musgueira' ); ⮐\n",
    "```"
   ]
  },
  {
   "cell_type": "markdown",
   "id": "1107c9b1-3072-4e90-8083-434554b59e63",
   "metadata": {},
   "source": [
    "This instruction specifies the values for each column in the same order they were defined during the table creation. This instruction creates a new row in the customer table."
   ]
  },
  {
   "cell_type": "markdown",
   "id": "a907fddb-6cc8-452a-bc67-6f5ed3494dc4",
   "metadata": {},
   "source": [
    "Note that bank.sql contains instructions to insert more rows than the ones shown in Figure 1. These rows will be used to run various tests over the database. In future lab classes we will use this database to demonstrate various concepts within the course.\n"
   ]
  },
  {
   "cell_type": "markdown",
   "id": "b408235d-ec9f-4f8c-89b1-cddced3d322c",
   "metadata": {},
   "source": [
    "**Nota:** Although you can use the graphical interface pgAdmin to interact with the Postgres database management system, in the lab classes we will mostly use the command line interface. "
   ]
  },
  {
   "cell_type": "markdown",
   "id": "43cc6f76-e37a-45f1-85b5-0947c37c0c50",
   "metadata": {},
   "source": [
    "Execute this command to load and execute the SQL instructions in bank.sql and create the bank example database.\n",
    "Postgres outputs some messages while it executes the instruction in the file.\n",
    "\n",
    "\n",
    "**\\i ~/data/bank.sql** ⮐"
   ]
  },
  {
   "cell_type": "markdown",
   "id": "99148054-008b-4092-bc57-11e98762f4e5",
   "metadata": {},
   "source": [
    "Once it is over, the example database will have been created."
   ]
  },
  {
   "cell_type": "markdown",
   "id": "bc338236-5d17-4a63-ab23-48ea0143194c",
   "metadata": {
    "tags": []
   },
   "source": [
    "To list the tables in the database, use command: **\\d** ⮐"
   ]
  },
  {
   "cell_type": "markdown",
   "id": "38c26336-80bf-45bf-9f22-99c881cdb241",
   "metadata": {},
   "source": [
    "How long the system takes to reply to certain queries is an important factor when the data volume is substantial. Execute command:\n",
    "\n",
    "**\\timing** ⮐\n",
    "\n",
    "to turn the timing of SQL commands on and off."
   ]
  },
  {
   "cell_type": "markdown",
   "id": "8ceb9ecf-c2ab-4e72-9688-7ee94ceb112b",
   "metadata": {},
   "source": [
    "Once in you Postgres session, you can make some queries with SQL commands, namely:"
   ]
  },
  {
   "cell_type": "markdown",
   "id": "524c3a5a-5f45-49b7-9ee9-05c001496579",
   "metadata": {},
   "source": [
    "- see the full list of clients:\n",
    "\n",
    "```sql\n",
    "SELECT * FROM customer; ⮐\n",
    "```"
   ]
  },
  {
   "cell_type": "markdown",
   "id": "d3ccd142-9a58-4fdb-8083-1bc15aa5e3b7",
   "metadata": {
    "tags": []
   },
   "source": [
    "- see the full list of accounts:\n",
    "\n",
    "```sql\n",
    "SELECT * FROM account; ⮐\n",
    "```"
   ]
  },
  {
   "cell_type": "markdown",
   "id": "11013dca-528c-4df0-bd06-6bcd2cf648cd",
   "metadata": {},
   "source": [
    "- check balance of account A-101:\n",
    "\n",
    "```sql\n",
    "SELECT balance FROM account\n",
    "WHERE account_number='A-101'; ⮐\n",
    "```"
   ]
  },
  {
   "cell_type": "markdown",
   "id": "856a55dd-2676-4b9c-badd-9b97b132e168",
   "metadata": {
    "tags": []
   },
   "source": [
    "- see all clients that are not depositors (i.e. have no accounts):\n",
    "\n",
    "```sql\n",
    "SELECT * FROM customer \n",
    "WHERE customer_name NOT IN (\n",
    "SELECT customer_name FROM depositor); ⮐\n",
    "```"
   ]
  },
  {
   "cell_type": "markdown",
   "id": "e77b8d3e-fbf7-4b27-96cb-b4449ea555f7",
   "metadata": {},
   "source": [
    "**Note:** In future classes you will learn how to get answers to more complex queries."
   ]
  }
 ],
 "metadata": {
  "kernelspec": {
   "display_name": "Python 3 (ipykernel)",
   "language": "python",
   "name": "python3"
  },
  "language_info": {
   "codemirror_mode": {
    "name": "ipython",
    "version": 3
   },
   "file_extension": ".py",
   "mimetype": "text/x-python",
   "name": "python",
   "nbconvert_exporter": "python",
   "pygments_lexer": "ipython3",
   "version": "3.11.6"
  }
 },
 "nbformat": 4,
 "nbformat_minor": 5
}
